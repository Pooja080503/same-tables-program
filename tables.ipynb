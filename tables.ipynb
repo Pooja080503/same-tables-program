for i in range (1,1001): 
    for j in range(1,11):
         print(i*j,end=" ")
    print()
